{
 "cells": [
  {
   "cell_type": "code",
   "execution_count": 2,
   "id": "23f429e6-6222-4956-8f09-e4f84d33cd82",
   "metadata": {},
   "outputs": [],
   "source": [
    "# K-Nearest Neighbors is one of the most basic yet essential classification algorithms in Machine Learning. It belongs to the supervised learning domain and finds intense application in pattern recognition, data mining.\n",
    "\n",
    "# KNN algorithm can also be used for regression problems.The only difference will be using averages of nearest neighbors rather than voting from nearest neighbors.\n",
    "\n",
    "# KNN algorithm makes predictions by calculating similarity between the input sample and each training instance. \n",
    "#This algorithm does not make strong assumptions about the form of mapping function hence it is Nonparametric. \n",
    "#In simple words, by not making assumptions, the algorithm is free to learn any functional form from the training data."
   ]
  },
  {
   "cell_type": "code",
   "execution_count": 1,
   "id": "36854370-46f1-4ddf-98a6-9a268515ad5e",
   "metadata": {},
   "outputs": [],
   "source": [
    "import numpy as np\n",
    "from collections import Counter\n",
    "from sklearn.datasets import load_iris\n",
    "from sklearn.model_selection import train_test_split\n",
    "\n",
    "# Load Iris dataset\n",
    "iris = load_iris()\n",
    "X = iris.data\n",
    "y = iris.target\n",
    "class_names = iris.target_names\n",
    "\n",
    "# Split the data into training and testing sets\n",
    "X_train, X_test, y_train, y_test = train_test_split(X, y, test_size=0.2, random_state=42)"
   ]
  },
  {
   "cell_type": "code",
   "execution_count": 2,
   "id": "d3b598fd-5188-43b6-b75d-1ac355b6dcc5",
   "metadata": {},
   "outputs": [
    {
     "name": "stdout",
     "output_type": "stream",
     "text": [
      "Test Sample 1: Actual class = versicolor, Predicted class = versicolor\n",
      "Test Sample 2: Actual class = setosa, Predicted class = setosa\n",
      "Test Sample 3: Actual class = virginica, Predicted class = virginica\n",
      "Test Sample 4: Actual class = versicolor, Predicted class = versicolor\n",
      "Test Sample 5: Actual class = versicolor, Predicted class = versicolor\n",
      "Test Sample 6: Actual class = setosa, Predicted class = setosa\n",
      "Test Sample 7: Actual class = versicolor, Predicted class = versicolor\n",
      "Test Sample 8: Actual class = virginica, Predicted class = virginica\n",
      "Test Sample 9: Actual class = versicolor, Predicted class = versicolor\n",
      "Test Sample 10: Actual class = versicolor, Predicted class = versicolor\n",
      "Test Sample 11: Actual class = virginica, Predicted class = virginica\n",
      "Test Sample 12: Actual class = setosa, Predicted class = setosa\n",
      "Test Sample 13: Actual class = setosa, Predicted class = setosa\n",
      "Test Sample 14: Actual class = setosa, Predicted class = setosa\n",
      "Test Sample 15: Actual class = setosa, Predicted class = setosa\n",
      "Test Sample 16: Actual class = versicolor, Predicted class = versicolor\n",
      "Test Sample 17: Actual class = virginica, Predicted class = virginica\n",
      "Test Sample 18: Actual class = versicolor, Predicted class = versicolor\n",
      "Test Sample 19: Actual class = versicolor, Predicted class = versicolor\n",
      "Test Sample 20: Actual class = virginica, Predicted class = virginica\n",
      "Test Sample 21: Actual class = setosa, Predicted class = setosa\n",
      "Test Sample 22: Actual class = virginica, Predicted class = virginica\n",
      "Test Sample 23: Actual class = setosa, Predicted class = setosa\n",
      "Test Sample 24: Actual class = virginica, Predicted class = virginica\n",
      "Test Sample 25: Actual class = virginica, Predicted class = virginica\n",
      "Test Sample 26: Actual class = virginica, Predicted class = virginica\n",
      "Test Sample 27: Actual class = virginica, Predicted class = virginica\n",
      "Test Sample 28: Actual class = virginica, Predicted class = virginica\n",
      "Test Sample 29: Actual class = setosa, Predicted class = setosa\n",
      "Test Sample 30: Actual class = setosa, Predicted class = setosa\n",
      "\n",
      "Accuracy of k-NN classifier: 100.00%\n"
     ]
    }
   ],
   "source": [
    "# Define the number of neighbors\n",
    "k = 3\n",
    "\n",
    "# a) Calculate Euclidean Distance\n",
    "def euclidean_distance(row1, row2):\n",
    "    return np.sqrt(np.sum((row1 - row2) ** 2))\n",
    "\n",
    "# b) Get Nearest Neighbors\n",
    "def get_nearest_neighbors(train_X, train_y, test_row, k):\n",
    "    distances = []\n",
    "    for i in range(len(train_X)):\n",
    "        dist = euclidean_distance(test_row, train_X[i])\n",
    "        distances.append((train_y[i], dist))\n",
    "    # Sort by distance and return the k nearest neighbors\n",
    "    distances.sort(key=lambda x: x[1])\n",
    "    neighbors = [distances[i][0] for i in range(k)]\n",
    "    return neighbors\n",
    "\n",
    "# c) Make Predictions\n",
    "def predict_classification(train_X, train_y, test_row, k):\n",
    "    neighbors = get_nearest_neighbors(train_X, train_y, test_row, k)\n",
    "    # Find the most common class in neighbors\n",
    "    most_common = Counter(neighbors).most_common(1)\n",
    "    return most_common[0][0]\n",
    "\n",
    "# Evaluate the model on test set\n",
    "correct_predictions = 0\n",
    "for i in range(len(X_test)):\n",
    "    prediction = predict_classification(X_train, y_train, X_test[i], k)\n",
    "    print(f\"Test Sample {i+1}: Actual class = {class_names[y_test[i]]}, Predicted class = {class_names[prediction]}\")\n",
    "    if prediction == y_test[i]:\n",
    "        correct_predictions += 1\n",
    "\n",
    "# Calculate accuracy\n",
    "accuracy = correct_predictions / len(X_test)\n",
    "print(f\"\\nAccuracy of k-NN classifier: {accuracy * 100:.2f}%\")"
   ]
  },
  {
   "cell_type": "code",
   "execution_count": null,
   "id": "1dfa3c49-f2a1-4126-aac3-6c3e17a1a778",
   "metadata": {},
   "outputs": [],
   "source": []
  }
 ],
 "metadata": {
  "kernelspec": {
   "display_name": "Python 3 (ipykernel)",
   "language": "python",
   "name": "python3"
  },
  "language_info": {
   "codemirror_mode": {
    "name": "ipython",
    "version": 3
   },
   "file_extension": ".py",
   "mimetype": "text/x-python",
   "name": "python",
   "nbconvert_exporter": "python",
   "pygments_lexer": "ipython3",
   "version": "3.11.5"
  }
 },
 "nbformat": 4,
 "nbformat_minor": 5
}
