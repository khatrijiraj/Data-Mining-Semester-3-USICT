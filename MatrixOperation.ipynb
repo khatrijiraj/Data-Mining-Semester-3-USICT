{
 "cells": [
  {
   "cell_type": "code",
   "execution_count": 7,
   "id": "4c16f8bd-46b8-4a29-9672-823bba11b3d3",
   "metadata": {},
   "outputs": [],
   "source": [
    "import numpy as np"
   ]
  },
  {
   "cell_type": "markdown",
   "id": "1d02d02b-e93e-4b0a-95e0-1e876edac5b3",
   "metadata": {},
   "source": [
    "## Create a Multi dimensional array and find its Shape and Dimension"
   ]
  },
  {
   "cell_type": "code",
   "execution_count": 8,
   "id": "d0a1542d-0c77-4daa-a801-a06ecaacdcd3",
   "metadata": {},
   "outputs": [],
   "source": [
    "arr = np.array([[1,2,3],[4,5,6],[7,8,9]])"
   ]
  },
  {
   "cell_type": "code",
   "execution_count": 9,
   "id": "3b85c8ba-c726-45a8-b94b-f1d169651cdc",
   "metadata": {},
   "outputs": [
    {
     "name": "stdout",
     "output_type": "stream",
     "text": [
      "[[1 2 3]\n",
      " [4 5 6]\n",
      " [7 8 9]]\n",
      "Shape of the Matrix (3, 3)\n",
      "Dimension of the Matrix 2\n"
     ]
    }
   ],
   "source": [
    "print(arr)\n",
    "print(\"Shape of the Matrix\", arr.shape)\n",
    "print(\"Dimension of the Matrix\",arr.ndim)"
   ]
  },
  {
   "cell_type": "markdown",
   "id": "d94d7637-2cb4-41cf-a74b-629fc6305b81",
   "metadata": {},
   "source": [
    "## Create a Matrix full of Zeros and ones"
   ]
  },
  {
   "cell_type": "code",
   "execution_count": 10,
   "id": "c0b6442f-1ce5-4ef1-a047-bbeea42f53bc",
   "metadata": {},
   "outputs": [
    {
     "name": "stdout",
     "output_type": "stream",
     "text": [
      "Matrix of Zeros\n",
      " [[0. 0. 0.]\n",
      " [0. 0. 0.]]\n",
      "Matrix of Ones\n",
      " [[1. 1.]\n",
      " [1. 1.]\n",
      " [1. 1.]]\n"
     ]
    }
   ],
   "source": [
    "#Matrix of Zeros\n",
    "arr0 = np.zeros((2,3))\n",
    "arr1 = np.ones((3,2))\n",
    "print(\"Matrix of Zeros\\n\",arr0)\n",
    "print(\"Matrix of Ones\\n\",arr1)"
   ]
  },
  {
   "cell_type": "markdown",
   "id": "6603e551-da9c-458c-bcde-99bf5bfe2741",
   "metadata": {},
   "source": [
    "## Reshape and Flatten the data in the matrix"
   ]
  },
  {
   "cell_type": "code",
   "execution_count": 11,
   "id": "cf637035-cd93-4a2d-8de9-cffbb897770e",
   "metadata": {},
   "outputs": [
    {
     "name": "stdout",
     "output_type": "stream",
     "text": [
      "Array after reshaping\n",
      " [[[1. 1.]\n",
      "  [1. 1.]\n",
      "  [1. 1.]]]\n",
      "Array after flattening\n",
      " [0. 0. 0. 0. 0. 0.]\n"
     ]
    }
   ],
   "source": [
    "#Reshaping to 3,2\n",
    "arr1 = arr1.reshape((1,3,2))\n",
    "arr0 = arr0.flatten()\n",
    "print(\"Array after reshaping\\n\",arr1)\n",
    "print(\"Array after flattening\\n\",arr0)"
   ]
  },
  {
   "cell_type": "markdown",
   "id": "f7827793-47d6-4e2b-a1d4-774dbc60e50d",
   "metadata": {},
   "source": [
    "## Apply Indexing and Slicing"
   ]
  },
  {
   "cell_type": "code",
   "execution_count": 12,
   "id": "c228c942-05dd-4f0a-832a-df84278f1791",
   "metadata": {},
   "outputs": [
    {
     "name": "stdout",
     "output_type": "stream",
     "text": [
      "Element at index (2,1) in arr: 8\n",
      "Elements of 2nd Row:  [4 5 6]\n"
     ]
    }
   ],
   "source": [
    "#indexing\n",
    "print(\"Element at index (2,1) in arr:\",arr[2,1])\n",
    "print(\"Elements of 2nd Row: \",arr[1,0:3])"
   ]
  },
  {
   "cell_type": "markdown",
   "id": "c8e344ff-10d3-4e3d-95ee-e0ac5c180ff1",
   "metadata": {},
   "source": [
    "## Append Data vertically and Horizontally"
   ]
  },
  {
   "cell_type": "code",
   "execution_count": 13,
   "id": "4ddde599-c79b-49d4-b677-dd119241b9e6",
   "metadata": {},
   "outputs": [
    {
     "name": "stdout",
     "output_type": "stream",
     "text": [
      "Horrizontal Append [0. 0. 0. 0. 0. 0. 1. 1. 1. 1. 1. 1.]\n",
      "Vertical Append\n",
      " [[1. 1. 1.]\n",
      " [1. 1. 1.]\n",
      " [0. 0. 0.]\n",
      " [0. 0. 0.]]\n"
     ]
    }
   ],
   "source": [
    "print(\"Horrizontal Append\",np.append(arr0,arr1))\n",
    "print(\"Vertical Append\\n\", np.append(arr1.reshape((2,3)),arr0.reshape((2,3)),axis=0))"
   ]
  },
  {
   "cell_type": "markdown",
   "id": "1fb84d37-aa8f-4f14-9cff-0a70abf8de52",
   "metadata": {},
   "source": [
    "## Using Statistical Function find Mean, Median, Standard Deviation, Max and Min"
   ]
  },
  {
   "cell_type": "code",
   "execution_count": 14,
   "id": "ab31f32a-8494-4cf4-a395-206322c7d866",
   "metadata": {},
   "outputs": [
    {
     "name": "stdout",
     "output_type": "stream",
     "text": [
      "Min element of arr is:  1\n",
      "Max element of arr is:  9\n",
      "Mean of arr is:  5.0\n",
      "Median of arr is:  5.0\n",
      "Standard Deviation of arr1 is: 2.58\n"
     ]
    }
   ],
   "source": [
    "print(\"Min element of arr is: \", np.min(arr))\n",
    "print(\"Max element of arr is: \", np.max(arr))\n",
    "print(\"Mean of arr is: \", np.mean(arr))\n",
    "print(\"Median of arr is: \", np.median(arr))\n",
    "print(f'Standard Deviation of arr1 is: {np.std(arr):.2f}')"
   ]
  },
  {
   "cell_type": "code",
   "execution_count": null,
   "id": "0335e829-1c45-4311-bec9-8bdfd6e54278",
   "metadata": {},
   "outputs": [],
   "source": []
  }
 ],
 "metadata": {
  "kernelspec": {
   "display_name": "Python 3 (ipykernel)",
   "language": "python",
   "name": "python3"
  },
  "language_info": {
   "codemirror_mode": {
    "name": "ipython",
    "version": 3
   },
   "file_extension": ".py",
   "mimetype": "text/x-python",
   "name": "python",
   "nbconvert_exporter": "python",
   "pygments_lexer": "ipython3",
   "version": "3.11.5"
  }
 },
 "nbformat": 4,
 "nbformat_minor": 5
}
