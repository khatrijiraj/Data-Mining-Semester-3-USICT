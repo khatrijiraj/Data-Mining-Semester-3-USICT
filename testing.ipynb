{
 "cells": [
  {
   "cell_type": "code",
   "execution_count": 15,
   "id": "543fc225-735b-412d-8bb5-3fbb5026e0a0",
   "metadata": {},
   "outputs": [],
   "source": [
    "import numpy as np\n",
    "from sklearn.model_selection import train_test_split\n",
    "import matplotlib.pyplot as plt"
   ]
  },
  {
   "cell_type": "code",
   "execution_count": 7,
   "id": "4ddc4501-0ccd-414a-a532-10ce04ef407b",
   "metadata": {},
   "outputs": [
    {
     "name": "stdout",
     "output_type": "stream",
     "text": [
      "3*x₀ + x₁ = 9, x₀ + 2*x₁ = 8\n"
     ]
    }
   ],
   "source": [
    "print(\"3*x\\u2080 + x\\u2081 = 9, x\\u2080 + 2*x\\u2081 = 8\") "
   ]
  },
  {
   "cell_type": "code",
   "execution_count": 9,
   "id": "d8731f00-0f46-4c3d-883e-27902ea2d14d",
   "metadata": {},
   "outputs": [],
   "source": [
    "np.random.seed(42)\n",
    "X_lin = np.random.rand(100, 1) * 10  # 100 data points between 0 and 10\n",
    "y_lin = 3 * X_lin.squeeze() + 5 + np.random.randn(100) * 2  # Linear relation with some noise\n",
    "\n",
    "# Train-test split for Linear Regression\n",
    "X_train_lin, X_test_lin, y_train_lin, y_test_lin = train_test_split(X_lin, y_lin, test_size=0.2, random_state=42)\n"
   ]
  },
  {
   "cell_type": "code",
   "execution_count": 13,
   "id": "f3a8aed3-3ad0-4689-88dd-26c4713fc6d7",
   "metadata": {},
   "outputs": [
    {
     "data": {
      "text/plain": [
       "(array([[9.21874235],\n",
       "        [8.87212743],\n",
       "        [1.99673782],\n",
       "        [0.34388521],\n",
       "        [9.86886937],\n",
       "        [1.8340451 ],\n",
       "        [1.22038235],\n",
       "        [5.22732829],\n",
       "        [7.08072578],\n",
       "        [0.05522117],\n",
       "        [9.69909852],\n",
       "        [5.20068021],\n",
       "        [3.25183322],\n",
       "        [5.92414569],\n",
       "        [5.61277198],\n",
       "        [1.5599452 ],\n",
       "        [1.40924225],\n",
       "        [5.42696083],\n",
       "        [8.08397348],\n",
       "        [3.04242243],\n",
       "        [1.84854456],\n",
       "        [9.65632033],\n",
       "        [8.66176146],\n",
       "        [4.93795596],\n",
       "        [5.14234438],\n",
       "        [2.9122914 ],\n",
       "        [6.23298127],\n",
       "        [7.85175961],\n",
       "        [8.28737509],\n",
       "        [2.12339111],\n",
       "        [4.56069984],\n",
       "        [5.98658484],\n",
       "        [5.24756432],\n",
       "        [6.84233027],\n",
       "        [6.01115012],\n",
       "        [3.58465729],\n",
       "        [0.58083612],\n",
       "        [2.8093451 ],\n",
       "        [3.04613769],\n",
       "        [4.72214925],\n",
       "        [0.88492502],\n",
       "        [1.07891427],\n",
       "        [5.97899979],\n",
       "        [9.09320402],\n",
       "        [9.69584628],\n",
       "        [8.02196981],\n",
       "        [3.11711076],\n",
       "        [0.74550644],\n",
       "        [2.71349032],\n",
       "        [4.27541018],\n",
       "        [1.1586906 ],\n",
       "        [4.9517691 ],\n",
       "        [0.45227289],\n",
       "        [5.46710279],\n",
       "        [0.25419127],\n",
       "        [1.95982862],\n",
       "        [7.29007168],\n",
       "        [0.65051593],\n",
       "        [7.7096718 ],\n",
       "        [3.25330331],\n",
       "        [3.56753327],\n",
       "        [3.10982322],\n",
       "        [0.97672114],\n",
       "        [0.46450413],\n",
       "        [9.50714306],\n",
       "        [9.39498942],\n",
       "        [1.39493861],\n",
       "        [7.31993942],\n",
       "        [3.66361843],\n",
       "        [6.37557471],\n",
       "        [7.13244787],\n",
       "        [7.06857344],\n",
       "        [7.29606178],\n",
       "        [3.30898025],\n",
       "        [6.11852895],\n",
       "        [3.8867729 ],\n",
       "        [1.98715682],\n",
       "        [1.81824967],\n",
       "        [7.60785049],\n",
       "        [7.75132823]]),\n",
       " array([[0.6355835 ],\n",
       "        [8.9482735 ],\n",
       "        [7.72244769],\n",
       "        [6.62522284],\n",
       "        [2.58779982],\n",
       "        [4.40152494],\n",
       "        [2.92144649],\n",
       "        [8.63103426],\n",
       "        [0.20584494],\n",
       "        [3.74540119],\n",
       "        [4.31945019],\n",
       "        [6.07544852],\n",
       "        [8.15461428],\n",
       "        [9.48885537],\n",
       "        [1.19594246],\n",
       "        [1.5601864 ],\n",
       "        [7.71270347],\n",
       "        [0.74044652],\n",
       "        [8.32442641],\n",
       "        [1.70524124]]),\n",
       " array([32.793353  , 33.54313454, 10.30478443,  8.31730126, 36.17025384,\n",
       "        12.43942528,  8.59172351, 20.52778146, 25.23866325,  6.20954664,\n",
       "        34.75479778, 17.79833851, 16.32966887, 22.44986564, 20.3308436 ,\n",
       "        10.39406075,  6.01276028, 23.895168  , 29.19889269, 12.7231611 ,\n",
       "        14.92654492, 30.13141856, 29.94874394, 18.18224732, 18.82247861,\n",
       "        10.80984431, 24.64660965, 27.7139882 , 31.48915971, 12.39670819,\n",
       "        15.85135804, 18.9846167 , 20.08736866, 25.14226887, 21.41646315,\n",
       "        16.3401168 ,  9.69829645, 13.88295516, 14.2588735 , 19.99200961,\n",
       "         5.53016763,  9.89110931, 19.8356725 , 33.78347813, 32.10646618,\n",
       "        29.43517714, 17.1569209 ,  7.7562849 , 12.49634792, 18.5085345 ,\n",
       "         7.04736895, 17.51795123,  4.5179702 , 22.57502257,  6.3159554 ,\n",
       "        11.82667073, 27.56311146,  7.46664857, 26.34998654, 17.85977873,\n",
       "        13.24087117, 12.38010631, 12.85664765,  7.2016141 , 32.92341449,\n",
       "        33.38427098,  9.70692636, 27.14333981, 15.52168103, 22.4853595 ,\n",
       "        30.19092958, 26.70670602, 29.20537651, 12.54433375, 23.9478274 ,\n",
       "        15.09381211,  8.32055722, 10.64890411, 27.33277523, 27.12138924]),\n",
       " array([ 8.21985773, 30.8378692 , 25.69344166, 23.05689362, 14.34546334,\n",
       "        18.8076695 , 13.77456637, 34.6246518 ,  7.44833906, 16.4102977 ,\n",
       "        17.17413425, 26.99871736, 30.0578122 , 33.31767429, 10.2319477 ,\n",
       "         9.24121544, 26.77806096,  7.68584695, 28.91375882, 10.46487934]))"
      ]
     },
     "execution_count": 13,
     "metadata": {},
     "output_type": "execute_result"
    }
   ],
   "source": [
    "X_train_lin, X_test_lin, y_train_lin, y_test_lin"
   ]
  },
  {
   "cell_type": "code",
   "execution_count": 16,
   "id": "0edad09b-3143-4c48-80df-cfc10c4c294f",
   "metadata": {},
   "outputs": [
    {
     "data": {
      "text/plain": [
       "<matplotlib.collections.PathCollection at 0x1cf89d6b650>"
      ]
     },
     "execution_count": 16,
     "metadata": {},
     "output_type": "execute_result"
    },
    {
     "data": {
      "image/png": "[encoded data removed]",
      "text/plain": [
       "<Figure size 1000x600 with 1 Axes>"
      ]
     },
     "metadata": {},
     "output_type": "display_data"
    }
   ],
   "source": [
    "plt.figure(figsize=(10, 6))\n",
    "plt.scatter(X_test_lin, y_test_lin, color=\"blue\", label=\"Actual values\")"
   ]
  },
  {
   "cell_type": "code",
   "execution_count": 5,
   "id": "91bf34c1-96dd-42a0-af7e-84be37c0b0c0",
   "metadata": {},
   "outputs": [
    {
     "name": "stdout",
     "output_type": "stream",
     "text": [
      "   sepal_length  sepal_width  petal_length  petal_width species\n",
      "0           5.1          3.5           1.4          0.2  setosa\n",
      "1           4.9          3.0           1.4          0.2  setosa\n",
      "2           4.7          3.2           1.3          0.2  setosa\n",
      "3           4.6          3.1           1.5          0.2  setosa\n",
      "4           5.0          3.6           1.4          0.2  setosa\n"
     ]
    },
    {
     "ename": "KeyError",
     "evalue": "'class'",
     "output_type": "error",
     "traceback": [
      "\u001b[1;31m---------------------------------------------------------------------------\u001b[0m",
      "\u001b[1;31mKeyError\u001b[0m                                  Traceback (most recent call last)",
      "File \u001b[1;32m~\\AppData\\Local\\Programs\\Python\\Python311\\Lib\\site-packages\\pandas\\core\\indexes\\base.py:3805\u001b[0m, in \u001b[0;36mIndex.get_loc\u001b[1;34m(self, key)\u001b[0m\n\u001b[0;32m   3804\u001b[0m \u001b[38;5;28;01mtry\u001b[39;00m:\n\u001b[1;32m-> 3805\u001b[0m     \u001b[38;5;28;01mreturn\u001b[39;00m \u001b[38;5;28;43mself\u001b[39;49m\u001b[38;5;241;43m.\u001b[39;49m\u001b[43m_engine\u001b[49m\u001b[38;5;241;43m.\u001b[39;49m\u001b[43mget_loc\u001b[49m\u001b[43m(\u001b[49m\u001b[43mcasted_key\u001b[49m\u001b[43m)\u001b[49m\n\u001b[0;32m   3806\u001b[0m \u001b[38;5;28;01mexcept\u001b[39;00m \u001b[38;5;167;01mKeyError\u001b[39;00m \u001b[38;5;28;01mas\u001b[39;00m err:\n",
      "File \u001b[1;32mindex.pyx:167\u001b[0m, in \u001b[0;36mpandas._libs.index.IndexEngine.get_loc\u001b[1;34m()\u001b[0m\n",
      "File \u001b[1;32mindex.pyx:196\u001b[0m, in \u001b[0;36mpandas._libs.index.IndexEngine.get_loc\u001b[1;34m()\u001b[0m\n",
      "File \u001b[1;32mpandas\\\\_libs\\\\hashtable_class_helper.pxi:7081\u001b[0m, in \u001b[0;36mpandas._libs.hashtable.PyObjectHashTable.get_item\u001b[1;34m()\u001b[0m\n",
      "File \u001b[1;32mpandas\\\\_libs\\\\hashtable_class_helper.pxi:7089\u001b[0m, in \u001b[0;36mpandas._libs.hashtable.PyObjectHashTable.get_item\u001b[1;34m()\u001b[0m\n",
      "\u001b[1;31mKeyError\u001b[0m: 'class'",
      "\nThe above exception was the direct cause of the following exception:\n",
      "\u001b[1;31mKeyError\u001b[0m                                  Traceback (most recent call last)",
      "Cell \u001b[1;32mIn[5], line 7\u001b[0m\n\u001b[0;32m      5\u001b[0m \u001b[38;5;28mprint\u001b[39m(iris\u001b[38;5;241m.\u001b[39mhead())\n\u001b[0;32m      6\u001b[0m x\u001b[38;5;241m=\u001b[39miris\u001b[38;5;241m.\u001b[39miloc[:,:\u001b[38;5;241m4\u001b[39m] \u001b[38;5;66;03m#all parameters \u001b[39;00m\n\u001b[1;32m----> 7\u001b[0m y\u001b[38;5;241m=\u001b[39m\u001b[43miris\u001b[49m\u001b[43m[\u001b[49m\u001b[38;5;124;43m\"\u001b[39;49m\u001b[38;5;124;43mclass\u001b[39;49m\u001b[38;5;124;43m\"\u001b[39;49m\u001b[43m]\u001b[49m  \u001b[38;5;66;03m#class labels\u001b[39;00m\n\u001b[0;32m      8\u001b[0m neigh\u001b[38;5;241m=\u001b[39mKNeighborsClassifier(n_neighbors\u001b[38;5;241m=\u001b[39m\u001b[38;5;241m4\u001b[39m)\n\u001b[0;32m      9\u001b[0m neigh\u001b[38;5;241m.\u001b[39mfit(iris\u001b[38;5;241m.\u001b[39miloc[:,:\u001b[38;5;241m4\u001b[39m],iris[\u001b[38;5;124m\"\u001b[39m\u001b[38;5;124mclass\u001b[39m\u001b[38;5;124m\"\u001b[39m])\n",
      "File \u001b[1;32m~\\AppData\\Local\\Programs\\Python\\Python311\\Lib\\site-packages\\pandas\\core\\frame.py:4090\u001b[0m, in \u001b[0;36mDataFrame.__getitem__\u001b[1;34m(self, key)\u001b[0m\n\u001b[0;32m   4088\u001b[0m \u001b[38;5;28;01mif\u001b[39;00m \u001b[38;5;28mself\u001b[39m\u001b[38;5;241m.\u001b[39mcolumns\u001b[38;5;241m.\u001b[39mnlevels \u001b[38;5;241m>\u001b[39m \u001b[38;5;241m1\u001b[39m:\n\u001b[0;32m   4089\u001b[0m     \u001b[38;5;28;01mreturn\u001b[39;00m \u001b[38;5;28mself\u001b[39m\u001b[38;5;241m.\u001b[39m_getitem_multilevel(key)\n\u001b[1;32m-> 4090\u001b[0m indexer \u001b[38;5;241m=\u001b[39m \u001b[38;5;28;43mself\u001b[39;49m\u001b[38;5;241;43m.\u001b[39;49m\u001b[43mcolumns\u001b[49m\u001b[38;5;241;43m.\u001b[39;49m\u001b[43mget_loc\u001b[49m\u001b[43m(\u001b[49m\u001b[43mkey\u001b[49m\u001b[43m)\u001b[49m\n\u001b[0;32m   4091\u001b[0m \u001b[38;5;28;01mif\u001b[39;00m is_integer(indexer):\n\u001b[0;32m   4092\u001b[0m     indexer \u001b[38;5;241m=\u001b[39m [indexer]\n",
      "File \u001b[1;32m~\\AppData\\Local\\Programs\\Python\\Python311\\Lib\\site-packages\\pandas\\core\\indexes\\base.py:3812\u001b[0m, in \u001b[0;36mIndex.get_loc\u001b[1;34m(self, key)\u001b[0m\n\u001b[0;32m   3807\u001b[0m     \u001b[38;5;28;01mif\u001b[39;00m \u001b[38;5;28misinstance\u001b[39m(casted_key, \u001b[38;5;28mslice\u001b[39m) \u001b[38;5;129;01mor\u001b[39;00m (\n\u001b[0;32m   3808\u001b[0m         \u001b[38;5;28misinstance\u001b[39m(casted_key, abc\u001b[38;5;241m.\u001b[39mIterable)\n\u001b[0;32m   3809\u001b[0m         \u001b[38;5;129;01mand\u001b[39;00m \u001b[38;5;28many\u001b[39m(\u001b[38;5;28misinstance\u001b[39m(x, \u001b[38;5;28mslice\u001b[39m) \u001b[38;5;28;01mfor\u001b[39;00m x \u001b[38;5;129;01min\u001b[39;00m casted_key)\n\u001b[0;32m   3810\u001b[0m     ):\n\u001b[0;32m   3811\u001b[0m         \u001b[38;5;28;01mraise\u001b[39;00m InvalidIndexError(key)\n\u001b[1;32m-> 3812\u001b[0m     \u001b[38;5;28;01mraise\u001b[39;00m \u001b[38;5;167;01mKeyError\u001b[39;00m(key) \u001b[38;5;28;01mfrom\u001b[39;00m \u001b[38;5;21;01merr\u001b[39;00m\n\u001b[0;32m   3813\u001b[0m \u001b[38;5;28;01mexcept\u001b[39;00m \u001b[38;5;167;01mTypeError\u001b[39;00m:\n\u001b[0;32m   3814\u001b[0m     \u001b[38;5;66;03m# If we have a listlike key, _check_indexing_error will raise\u001b[39;00m\n\u001b[0;32m   3815\u001b[0m     \u001b[38;5;66;03m#  InvalidIndexError. Otherwise we fall through and re-raise\u001b[39;00m\n\u001b[0;32m   3816\u001b[0m     \u001b[38;5;66;03m#  the TypeError.\u001b[39;00m\n\u001b[0;32m   3817\u001b[0m     \u001b[38;5;28mself\u001b[39m\u001b[38;5;241m.\u001b[39m_check_indexing_error(key)\n",
      "\u001b[1;31mKeyError\u001b[0m: 'class'"
     ]
    }
   ],
   "source": [
    "import numpy as np\n",
    "import pandas as pd\n",
    "from sklearn.neighbors import KNeighborsClassifier\n",
    "iris=pd.read_csv(\"iris.csv\") \n",
    "print(iris.head())\n",
    "x=iris.iloc[:,:4] #all parameters \n",
    "y=iris[\"class\"]  #class labels\n",
    "neigh=KNeighborsClassifier(n_neighbors=4)\n",
    "neigh.fit(iris.iloc[:,:4],iris[\"class\"])\n",
    "testSet = [[1.4, 3.6, 3.4, 1.2]]\n",
    "test = pd.DataFrame(testSet) \n",
    "print(test)\n",
    "print(\"predicted:\",neigh.predict(test))\n",
    "print(\"neighbors\",neigh.kneighbors(test))"
   ]
  },
  {
   "cell_type": "code",
   "execution_count": 7,
   "id": "a6d9f278-77c0-4ffa-8a23-a27d6ea15688",
   "metadata": {},
   "outputs": [
    {
     "name": "stdout",
     "output_type": "stream",
     "text": [
      "Data loaded and split into training and testing sets.\n",
      "Euclidean Distance between two training points: 1.46287388383278\n",
      "Nearest neighbors of test sample: [1, 1, 1]\n"
     ]
    }
   ],
   "source": [
    "import numpy as np\n",
    "from sklearn.datasets import load_iris\n",
    "from sklearn.model_selection import train_test_split\n",
    "\n",
    "# Load Iris dataset\n",
    "iris = load_iris()\n",
    "X = iris.data\n",
    "y = iris.target\n",
    "class_names = iris.target_names\n",
    "\n",
    "# Split the data into training and testing sets\n",
    "X_train, X_test, y_train, y_test = train_test_split(X, y, test_size=0.2, random_state=42)\n",
    "print(\"Data loaded and split into training and testing sets.\")\n",
    "\n",
    "\n",
    "def euclidean_distance(row1, row2):\n",
    "    \"\"\"Calculate the Euclidean distance between two vectors.\"\"\"\n",
    "    return np.sqrt(np.sum((row1 - row2) ** 2))\n",
    "\n",
    "# Example test of Euclidean Distance calculation\n",
    "point1 = X_train[0]\n",
    "point2 = X_train[1]\n",
    "distance = euclidean_distance(point1, point2)\n",
    "print(f\"Euclidean Distance between two training points: {distance}\")\n",
    "\n",
    "\n",
    "from collections import Counter\n",
    "\n",
    "def get_nearest_neighbors(train_X, train_y, test_row, k):\n",
    "    \"\"\"Find the k-nearest neighbors to a given test sample.\"\"\"\n",
    "    distances = []\n",
    "    for i in range(len(train_X)):\n",
    "        dist = euclidean_distance(test_row, train_X[i])\n",
    "        distances.append((train_y[i], dist))\n",
    "    # Sort by distance and select the k closest neighbors\n",
    "    distances.sort(key=lambda x: x[1])\n",
    "    neighbors = [distances[i][0] for i in range(k)]\n",
    "    return neighbors\n",
    "\n",
    "# Example test of finding nearest neighbors\n",
    "k = 3\n",
    "test_sample = X_test[0]\n",
    "neighbors = get_nearest_neighbors(X_train, y_train, test_sample, k)\n",
    "print(f\"Nearest neighbors of test sample: {neighbors}\")\n"
   ]
  },
  {
   "cell_type": "code",
   "execution_count": null,
   "id": "5ad034cd-59da-4218-b090-e7993f6a5a59",
   "metadata": {},
   "outputs": [],
   "source": []
  }
 ],
 "metadata": {
  "kernelspec": {
   "display_name": "Python 3 (ipykernel)",
   "language": "python",
   "name": "python3"
  },
  "language_info": {
   "codemirror_mode": {
    "name": "ipython",
    "version": 3
   },
   "file_extension": ".py",
   "mimetype": "text/x-python",
   "name": "python",
   "nbconvert_exporter": "python",
   "pygments_lexer": "ipython3",
   "version": "3.11.5"
  }
 },
 "nbformat": 4,
 "nbformat_minor": 5
}
