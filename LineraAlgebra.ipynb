{
 "cells": [
  {
   "cell_type": "code",
   "execution_count": 1,
   "id": "15457b8e-1ff2-4af5-89ba-883f9526cda0",
   "metadata": {},
   "outputs": [],
   "source": [
    "import numpy as np"
   ]
  },
  {
   "cell_type": "markdown",
   "id": "303061e6-005e-40da-affe-ca6d08c3eb34",
   "metadata": {},
   "source": [
    "## Dot and Matrix Products of two Arrays"
   ]
  },
  {
   "cell_type": "code",
   "execution_count": 14,
   "id": "01c00c91-5ad5-40e3-8a71-5e6225604bd6",
   "metadata": {},
   "outputs": [
    {
     "name": "stdout",
     "output_type": "stream",
     "text": [
      "Dot Product of arr1 & arr2:\n",
      " [[ 42  36  30]\n",
      " [ 96  81  66]\n",
      " [150 126 102]]\n",
      "\n",
      "Cross Product of arr1 & arr2:\n",
      " [[ -4   8  -4]\n",
      " [-10  20 -10]\n",
      " [-16  32 -16]]\n",
      "\n",
      "\n",
      "Eigen Values of arr2 : [1.36846584e+01 1.31534156e+00 1.06234298e-17]\n",
      "\n",
      "\n",
      "Solution of the linear equation 3*x₀ + x₁ = 9 & x₀ + 2*x₁ = 8 is  [2 3]\n",
      "\n",
      "\n",
      "Multiplicative Inverse of arr3:\n",
      " [[-3.          2.        ]\n",
      " [ 2.66666667 -1.66666667]]\n"
     ]
    }
   ],
   "source": [
    "arr1 = np.array([[1,2,3],[4,5,6],[7,8,9]]);\n",
    "arr2 = np.array([[3,2,1],[6,5,4],[9,8,7]]); \n",
    "arr3 = np.array([[5,6],[8,9]])\n",
    "\n",
    "#DOT PRODUCT\n",
    "DotProd = np.dot(arr1,arr2)\n",
    "CrossProd = np.cross(arr1,arr2)\n",
    "print(\"Dot Product of arr1 & arr2:\\n\",DotProd)\n",
    "print(\"\\nCross Product of arr1 & arr2:\\n\",CrossProd)\n",
    "\n",
    "#EIGEN VALUES\n",
    "print(\"\\n\\nEigen Values of arr2 :\", np.linalg.eigvals(arr2))\n",
    "\n",
    "# SOLVE\n",
    "# 3 * x0 + x1 = 9, x0 + 2 * x1 = 8\n",
    "# AX = B\n",
    "A = np.array([[3,1],\n",
    "            [1,2]]);\n",
    "B = np.array([9,8]);\n",
    "print(\"\\n\\nSolution of the linear equation 3*x\\u2080 + x\\u2081 = 9 & x\\u2080 + 2*x\\u2081 = 8 is \", np.linalg.solve(A,B).astype(np.int64))\n",
    "\n",
    "#MULTIPLICATIVE INVERSE\n",
    "print(\"\\n\\nMultiplicative Inverse of arr3:\\n\", np.linalg.inv(arr3)) "
   ]
  },
  {
   "cell_type": "code",
   "execution_count": 7,
   "id": "6bbb4c81-5563-48e0-8bf9-3bb3d0551756",
   "metadata": {},
   "outputs": [
    {
     "name": "stdout",
     "output_type": "stream",
     "text": [
      "\n",
      "Rank of Matrix arr1 is: 2\n",
      "\n",
      "\n",
      "Determinant of Matrix A is: 5\n"
     ]
    }
   ],
   "source": [
    "#DOT PRODUCT\n",
    "DotProd = np.dot(arr1,arr2)\n",
    "CrossProd = np.cross(arr1,arr2)\n",
    "print(\"Dot Product of arr1 & arr2:\\n\",DotProd)\n",
    "print(\"Cross Product of arr1 & arr2:\\n\",CrossProd)"
   ]
  }
 ],
 "metadata": {
  "kernelspec": {
   "display_name": "Python 3 (ipykernel)",
   "language": "python",
   "name": "python3"
  },
  "language_info": {
   "codemirror_mode": {
    "name": "ipython",
    "version": 3
   },
   "file_extension": ".py",
   "mimetype": "text/x-python",
   "name": "python",
   "nbconvert_exporter": "python",
   "pygments_lexer": "ipython3",
   "version": "3.11.5"
  }
 },
 "nbformat": 4,
 "nbformat_minor": 5
}
